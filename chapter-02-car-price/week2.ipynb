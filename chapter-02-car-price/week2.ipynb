{
 "cells": [
  {
   "cell_type": "code",
   "execution_count": 1,
   "id": "c5f03ecc-9e5d-44f6-b6b4-a8ac72693020",
   "metadata": {},
   "outputs": [],
   "source": [
    "import numpy as np\n",
    "import pandas as pd"
   ]
  },
  {
   "cell_type": "markdown",
   "id": "3de4685b-383a-4818-a99a-ec53c8589d96",
   "metadata": {},
   "source": [
    "***\n",
    "# WEEK 2.1\n",
    "***\n",
    "Importing and Normalizing Data\n"
   ]
  },
  {
   "cell_type": "code",
   "execution_count": 103,
   "id": "88e34567-9f03-4e07-8b07-397177ba0b95",
   "metadata": {},
   "outputs": [
    {
     "name": "stdout",
     "output_type": "stream",
     "text": [
      "--2022-06-08 18:27:01--  https://raw.githubusercontent.com/alexeygrigorev/mlbookcamp-code/master/chapter-02-car-price/data.csv\n",
      "Resolving raw.githubusercontent.com (raw.githubusercontent.com)... 2606:50c0:8003::154, 2606:50c0:8000::154, 2606:50c0:8002::154, ...\n",
      "Connecting to raw.githubusercontent.com (raw.githubusercontent.com)|2606:50c0:8003::154|:443... connected.\n",
      "HTTP request sent, awaiting response... 200 OK\n",
      "Length: 1475504 (1.4M) [text/plain]\n",
      "Saving to: ‘data.csv’\n",
      "\n",
      "data.csv            100%[===================>]   1.41M  --.-KB/s    in 0.1s    \n",
      "\n",
      "2022-06-08 18:27:02 (11.7 MB/s) - ‘data.csv’ saved [1475504/1475504]\n",
      "\n"
     ]
    }
   ],
   "source": [
    "!wget https://raw.githubusercontent.com/alexeygrigorev/mlbookcamp-code/master/chapter-02-car-price/data.csv -O data.csv"
   ]
  },
  {
   "cell_type": "code",
   "execution_count": 104,
   "id": "3b1e404a-b7c5-4b48-a5d1-d07a3ccf94d3",
   "metadata": {},
   "outputs": [],
   "source": [
    "df = pd.read_csv('data.csv')"
   ]
  },
  {
   "cell_type": "markdown",
   "id": "de105999-32f5-422f-baed-4ddbc60f9bb0",
   "metadata": {},
   "source": [
    "***\n",
    "Viewing the data after downloading\n"
   ]
  },
  {
   "cell_type": "code",
   "execution_count": 105,
   "id": "c1b6046f-105a-48d4-89ef-6c13c7a8790b",
   "metadata": {},
   "outputs": [
    {
     "data": {
      "text/html": [
       "<div>\n",
       "<style scoped>\n",
       "    .dataframe tbody tr th:only-of-type {\n",
       "        vertical-align: middle;\n",
       "    }\n",
       "\n",
       "    .dataframe tbody tr th {\n",
       "        vertical-align: top;\n",
       "    }\n",
       "\n",
       "    .dataframe thead th {\n",
       "        text-align: right;\n",
       "    }\n",
       "</style>\n",
       "<table border=\"1\" class=\"dataframe\">\n",
       "  <thead>\n",
       "    <tr style=\"text-align: right;\">\n",
       "      <th></th>\n",
       "      <th>Make</th>\n",
       "      <th>Model</th>\n",
       "      <th>Year</th>\n",
       "      <th>Engine Fuel Type</th>\n",
       "      <th>Engine HP</th>\n",
       "      <th>Engine Cylinders</th>\n",
       "      <th>Transmission Type</th>\n",
       "      <th>Driven_Wheels</th>\n",
       "      <th>Number of Doors</th>\n",
       "      <th>Market Category</th>\n",
       "      <th>Vehicle Size</th>\n",
       "      <th>Vehicle Style</th>\n",
       "      <th>highway MPG</th>\n",
       "      <th>city mpg</th>\n",
       "      <th>Popularity</th>\n",
       "      <th>MSRP</th>\n",
       "    </tr>\n",
       "  </thead>\n",
       "  <tbody>\n",
       "    <tr>\n",
       "      <th>0</th>\n",
       "      <td>BMW</td>\n",
       "      <td>1 Series M</td>\n",
       "      <td>2011</td>\n",
       "      <td>premium unleaded (required)</td>\n",
       "      <td>335.0</td>\n",
       "      <td>6.0</td>\n",
       "      <td>MANUAL</td>\n",
       "      <td>rear wheel drive</td>\n",
       "      <td>2.0</td>\n",
       "      <td>Factory Tuner,Luxury,High-Performance</td>\n",
       "      <td>Compact</td>\n",
       "      <td>Coupe</td>\n",
       "      <td>26</td>\n",
       "      <td>19</td>\n",
       "      <td>3916</td>\n",
       "      <td>46135</td>\n",
       "    </tr>\n",
       "    <tr>\n",
       "      <th>1</th>\n",
       "      <td>BMW</td>\n",
       "      <td>1 Series</td>\n",
       "      <td>2011</td>\n",
       "      <td>premium unleaded (required)</td>\n",
       "      <td>300.0</td>\n",
       "      <td>6.0</td>\n",
       "      <td>MANUAL</td>\n",
       "      <td>rear wheel drive</td>\n",
       "      <td>2.0</td>\n",
       "      <td>Luxury,Performance</td>\n",
       "      <td>Compact</td>\n",
       "      <td>Convertible</td>\n",
       "      <td>28</td>\n",
       "      <td>19</td>\n",
       "      <td>3916</td>\n",
       "      <td>40650</td>\n",
       "    </tr>\n",
       "    <tr>\n",
       "      <th>2</th>\n",
       "      <td>BMW</td>\n",
       "      <td>1 Series</td>\n",
       "      <td>2011</td>\n",
       "      <td>premium unleaded (required)</td>\n",
       "      <td>300.0</td>\n",
       "      <td>6.0</td>\n",
       "      <td>MANUAL</td>\n",
       "      <td>rear wheel drive</td>\n",
       "      <td>2.0</td>\n",
       "      <td>Luxury,High-Performance</td>\n",
       "      <td>Compact</td>\n",
       "      <td>Coupe</td>\n",
       "      <td>28</td>\n",
       "      <td>20</td>\n",
       "      <td>3916</td>\n",
       "      <td>36350</td>\n",
       "    </tr>\n",
       "    <tr>\n",
       "      <th>3</th>\n",
       "      <td>BMW</td>\n",
       "      <td>1 Series</td>\n",
       "      <td>2011</td>\n",
       "      <td>premium unleaded (required)</td>\n",
       "      <td>230.0</td>\n",
       "      <td>6.0</td>\n",
       "      <td>MANUAL</td>\n",
       "      <td>rear wheel drive</td>\n",
       "      <td>2.0</td>\n",
       "      <td>Luxury,Performance</td>\n",
       "      <td>Compact</td>\n",
       "      <td>Coupe</td>\n",
       "      <td>28</td>\n",
       "      <td>18</td>\n",
       "      <td>3916</td>\n",
       "      <td>29450</td>\n",
       "    </tr>\n",
       "    <tr>\n",
       "      <th>4</th>\n",
       "      <td>BMW</td>\n",
       "      <td>1 Series</td>\n",
       "      <td>2011</td>\n",
       "      <td>premium unleaded (required)</td>\n",
       "      <td>230.0</td>\n",
       "      <td>6.0</td>\n",
       "      <td>MANUAL</td>\n",
       "      <td>rear wheel drive</td>\n",
       "      <td>2.0</td>\n",
       "      <td>Luxury</td>\n",
       "      <td>Compact</td>\n",
       "      <td>Convertible</td>\n",
       "      <td>28</td>\n",
       "      <td>18</td>\n",
       "      <td>3916</td>\n",
       "      <td>34500</td>\n",
       "    </tr>\n",
       "  </tbody>\n",
       "</table>\n",
       "</div>"
      ],
      "text/plain": [
       "  Make       Model  Year             Engine Fuel Type  Engine HP  \\\n",
       "0  BMW  1 Series M  2011  premium unleaded (required)      335.0   \n",
       "1  BMW    1 Series  2011  premium unleaded (required)      300.0   \n",
       "2  BMW    1 Series  2011  premium unleaded (required)      300.0   \n",
       "3  BMW    1 Series  2011  premium unleaded (required)      230.0   \n",
       "4  BMW    1 Series  2011  premium unleaded (required)      230.0   \n",
       "\n",
       "   Engine Cylinders Transmission Type     Driven_Wheels  Number of Doors  \\\n",
       "0               6.0            MANUAL  rear wheel drive              2.0   \n",
       "1               6.0            MANUAL  rear wheel drive              2.0   \n",
       "2               6.0            MANUAL  rear wheel drive              2.0   \n",
       "3               6.0            MANUAL  rear wheel drive              2.0   \n",
       "4               6.0            MANUAL  rear wheel drive              2.0   \n",
       "\n",
       "                         Market Category Vehicle Size Vehicle Style  \\\n",
       "0  Factory Tuner,Luxury,High-Performance      Compact         Coupe   \n",
       "1                     Luxury,Performance      Compact   Convertible   \n",
       "2                Luxury,High-Performance      Compact         Coupe   \n",
       "3                     Luxury,Performance      Compact         Coupe   \n",
       "4                                 Luxury      Compact   Convertible   \n",
       "\n",
       "   highway MPG  city mpg  Popularity   MSRP  \n",
       "0           26        19        3916  46135  \n",
       "1           28        19        3916  40650  \n",
       "2           28        20        3916  36350  \n",
       "3           28        18        3916  29450  \n",
       "4           28        18        3916  34500  "
      ]
     },
     "execution_count": 105,
     "metadata": {},
     "output_type": "execute_result"
    }
   ],
   "source": [
    "df.head()"
   ]
  },
  {
   "cell_type": "markdown",
   "id": "d7917453-630c-4b1f-853f-d1293e5ccb59",
   "metadata": {},
   "source": [
    "***\n",
    "Normalizing the columns to be without spaces for easier accessing"
   ]
  },
  {
   "cell_type": "code",
   "execution_count": 109,
   "id": "b17b9370-8806-4211-91ed-b878cb269b0c",
   "metadata": {},
   "outputs": [],
   "source": [
    "df.columns = df.columns.str.lower().str.replace(' ','_')"
   ]
  },
  {
   "cell_type": "markdown",
   "id": "9b6ac307-ddbe-4ea2-86d1-3cca1710fb15",
   "metadata": {},
   "source": [
    "***\n",
    "Identifying non-numerical/non-boolean values as strings(objects) and normalizing their values"
   ]
  },
  {
   "cell_type": "code",
   "execution_count": 113,
   "id": "ea69f73a-3dde-4166-9615-a13f5265323c",
   "metadata": {},
   "outputs": [
    {
     "data": {
      "text/plain": [
       "make                  object\n",
       "model                 object\n",
       "year                   int64\n",
       "engine_fuel_type      object\n",
       "engine_hp            float64\n",
       "engine_cylinders     float64\n",
       "transmission_type     object\n",
       "driven_wheels         object\n",
       "number_of_doors      float64\n",
       "market_category       object\n",
       "vehicle_size          object\n",
       "vehicle_style         object\n",
       "highway_mpg            int64\n",
       "city_mpg               int64\n",
       "popularity             int64\n",
       "msrp                   int64\n",
       "dtype: object"
      ]
     },
     "execution_count": 113,
     "metadata": {},
     "output_type": "execute_result"
    }
   ],
   "source": [
    "df.dtypes"
   ]
  },
  {
   "cell_type": "code",
   "execution_count": 123,
   "id": "3f80fcc5-9060-4b12-95a7-27862dc3f29c",
   "metadata": {},
   "outputs": [],
   "source": [
    "string_cols = list(df.dtypes[df.dtypes == 'object'].index)"
   ]
  },
  {
   "cell_type": "code",
   "execution_count": 129,
   "id": "196936c3-1ba7-4f78-be77-80493a4e8547",
   "metadata": {},
   "outputs": [],
   "source": [
    "for col in string_cols:\n",
    "    df[col] = df[col].str.lower().str.replace(' ','_')"
   ]
  },
  {
   "cell_type": "markdown",
   "id": "b97852f9-6d81-4295-b2c2-0fa24182cf5f",
   "metadata": {},
   "source": [
    "***\n",
    "# WEEK 2.2\n",
    "\n",
    "***\n",
    "\n",
    "Exploratory Data Analysis"
   ]
  },
  {
   "cell_type": "code",
   "execution_count": 128,
   "id": "70f1237d-08d6-4a38-bc17-155bb24d1923",
   "metadata": {},
   "outputs": [
    {
     "name": "stdout",
     "output_type": "stream",
     "text": [
      "['bmw' 'audi' 'fiat' 'mercedes-benz' 'chrysler']\n",
      "48 \n",
      "\n",
      "['1_series_m' '1_series' '100' '124_spider' '190-class']\n",
      "914 \n",
      "\n",
      "[2011 2012 2013 1992 1993]\n",
      "28 \n",
      "\n",
      "['premium_unleaded_(required)' 'regular_unleaded'\n",
      " 'premium_unleaded_(recommended)' 'flex-fuel_(unleaded/e85)' 'diesel']\n",
      "10 \n",
      "\n",
      "[335. 300. 230. 320. 172.]\n",
      "356 \n",
      "\n",
      "[ 6.  4.  5.  8. 12.]\n",
      "9 \n",
      "\n",
      "['manual' 'automatic' 'automated_manual' 'direct_drive' 'unknown']\n",
      "5 \n",
      "\n",
      "['rear_wheel_drive' 'front_wheel_drive' 'all_wheel_drive'\n",
      " 'four_wheel_drive']\n",
      "4 \n",
      "\n",
      "[ 2.  4.  3. nan]\n",
      "3 \n",
      "\n",
      "['factory_tuner,luxury,high-performance' 'luxury,performance'\n",
      " 'luxury,high-performance' 'luxury' 'performance']\n",
      "71 \n",
      "\n",
      "['compact' 'midsize' 'large']\n",
      "3 \n",
      "\n",
      "['coupe' 'convertible' 'sedan' 'wagon' '4dr_hatchback']\n",
      "16 \n",
      "\n",
      "[26 28 27 25 24]\n",
      "59 \n",
      "\n",
      "[19 20 18 17 16]\n",
      "69 \n",
      "\n",
      "[3916 3105  819  617 1013]\n",
      "48 \n",
      "\n",
      "[46135 40650 36350 29450 34500]\n",
      "6049 \n",
      "\n"
     ]
    }
   ],
   "source": [
    "for col in df.columns:\n",
    "    print(df[col].unique()[:5])\n",
    "    print(df[col].nunique(),'\\n')"
   ]
  },
  {
   "cell_type": "markdown",
   "id": "1489f47d-5912-4df2-ad67-78be4364560c",
   "metadata": {},
   "source": [
    "Import visualization packages"
   ]
  },
  {
   "cell_type": "code",
   "execution_count": 130,
   "id": "86ee5107-105d-46d0-a6c7-95b66fb94e77",
   "metadata": {},
   "outputs": [],
   "source": [
    "import matplotlib.pyplot as plt\n",
    "import seaborn as sns"
   ]
  },
  {
   "cell_type": "code",
   "execution_count": 131,
   "id": "cb1aa097-c51b-4165-8262-5dec1c410544",
   "metadata": {},
   "outputs": [],
   "source": [
    "%matplotlib inline"
   ]
  },
  {
   "cell_type": "markdown",
   "id": "ac704b51-002f-405b-972a-f98282b4145b",
   "metadata": {},
   "source": [
    "Histogram to view price distribution using the MSRP column"
   ]
  },
  {
   "cell_type": "code",
   "execution_count": 135,
   "id": "86b51d72-c0a8-4957-9fe1-e81efd95993a",
   "metadata": {},
   "outputs": [
    {
     "data": {
      "image/png": "[encoded data removed]",
      "text/plain": [
       "<Figure size 432x288 with 1 Axes>"
      ]
     },
     "metadata": {
      "needs_background": "light"
     },
     "output_type": "display_data"
    }
   ],
   "source": [
    "hist = sns.histplot(df['msrp'], bins = 25)\n",
    "plt.show()"
   ]
  },
  {
   "cell_type": "markdown",
   "id": "5b1b7828-ce2c-4451-a05c-668e45c106f3",
   "metadata": {},
   "source": [
    "It is clear that there is a right skew in the data.\n",
    "The distribution of prices isn't normal and therefore, not ideal for ML"
   ]
  },
  {
   "cell_type": "code",
   "execution_count": 142,
   "id": "5e8c9e14-2f54-4e31-8d08-77da54260b98",
   "metadata": {},
   "outputs": [
    {
     "data": {
      "image/png": "[encoded data removed]",
      "text/plain": [
       "<Figure size 432x288 with 1 Axes>"
      ]
     },
     "metadata": {
      "needs_background": "light"
     },
     "output_type": "display_data"
    }
   ],
   "source": [
    "df_normal = df[df['msrp']<100000]\n",
    "sns.histplot(df_normal['msrp'])\n",
    "plt.show()"
   ]
  },
  {
   "cell_type": "markdown",
   "id": "667c338e-9041-4acc-b739-1bf162c06bb2",
   "metadata": {},
   "source": [
    "Distribution with msrp less than $100000 is more normal than the original dataset"
   ]
  },
  {
   "cell_type": "markdown",
   "id": "b537f6d4-d358-4050-a553-f40caa45ff81",
   "metadata": {},
   "source": [
    "***\n",
    "Using np.log1p() to bring the scale smaller to verify normalization of data through histogram visualization"
   ]
  },
  {
   "cell_type": "code",
   "execution_count": 149,
   "id": "e3de7be5-ff25-4fa4-82fc-cd0c8cf28582",
   "metadata": {},
   "outputs": [],
   "source": [
    "prices_log = np.log1p(df_normal['msrp'])"
   ]
  },
  {
   "cell_type": "code",
   "execution_count": 150,
   "id": "670adb1a-77ef-4b9d-88a8-8394bd1cb333",
   "metadata": {},
   "outputs": [
    {
     "data": {
      "image/png": "[encoded data removed]",
      "text/plain": [
       "<Figure size 432x288 with 1 Axes>"
      ]
     },
     "metadata": {
      "needs_background": "light"
     },
     "output_type": "display_data"
    }
   ],
   "source": [
    "sns.histplot(prices_log)\n",
    "plt.show()"
   ]
  },
  {
   "cell_type": "markdown",
   "id": "0dd4c9a2-f054-42f2-aba9-5fc31927131a",
   "metadata": {},
   "source": [
    "Removing missing values"
   ]
  },
  {
   "cell_type": "code",
   "execution_count": 151,
   "id": "eeee336c-bcf7-4f3f-8ca2-bc01d3ddece7",
   "metadata": {},
   "outputs": [
    {
     "data": {
      "text/plain": [
       "make                    0\n",
       "model                   0\n",
       "year                    0\n",
       "engine_fuel_type        3\n",
       "engine_hp              65\n",
       "engine_cylinders       30\n",
       "transmission_type       0\n",
       "driven_wheels           0\n",
       "number_of_doors         4\n",
       "market_category      3742\n",
       "vehicle_size            0\n",
       "vehicle_style           0\n",
       "highway_mpg             0\n",
       "city_mpg                0\n",
       "popularity              0\n",
       "msrp                    0\n",
       "dtype: int64"
      ]
     },
     "execution_count": 151,
     "metadata": {},
     "output_type": "execute_result"
    }
   ],
   "source": [
    "df_normal.isna().sum()"
   ]
  },
  {
   "cell_type": "code",
   "execution_count": null,
   "id": "b9052f11-1f83-4014-bb09-d43c23b53c27",
   "metadata": {},
   "outputs": [],
   "source": []
  }
 ],
 "metadata": {
  "kernelspec": {
   "display_name": "base_venv",
   "language": "python",
   "name": "base_venv"
  },
  "language_info": {
   "codemirror_mode": {
    "name": "ipython",
    "version": 3
   },
   "file_extension": ".py",
   "mimetype": "text/x-python",
   "name": "python",
   "nbconvert_exporter": "python",
   "pygments_lexer": "ipython3",
   "version": "3.8.2"
  }
 },
 "nbformat": 4,
 "nbformat_minor": 5
}
