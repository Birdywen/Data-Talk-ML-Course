{
 "cells": [
  {
   "cell_type": "markdown",
   "id": "771b418f-aeca-4710-b141-4a85a69217f3",
   "metadata": {
    "tags": []
   },
   "source": [
    "## 3.15 Homework\n",
    "\n",
    "### Dataset\n",
    "\n",
    "In this homework, we will continue the New York City Airbnb Open Data. You can take it from\n",
    "[Kaggle](https://www.kaggle.com/dgomonov/new-york-city-airbnb-open-data?select=AB_NYC_2019.csv)\n",
    "or download from [here](https://raw.githubusercontent.com/alexeygrigorev/datasets/master/AB_NYC_2019.csv)\n",
    "if you don't want to sign up to Kaggle.\n",
    "\n",
    "We'll keep working with the `'price'` variable, and we'll transform it to a classification task.\n",
    "\n",
    "\n",
    "### Features\n",
    "\n",
    "For the rest of the homework, you'll need to use the features from the previous homework with additional two `'neighbourhood_group'` and `'room_type'`. So the whole feature set will be set as follows:\n",
    "\n",
    "* `'neighbourhood_group'`,\n",
    "* `'room_type'`,\n",
    "* `'latitude'`,\n",
    "* `'longitude'`,\n",
    "* `'price'`,\n",
    "* `'minimum_nights'`,\n",
    "* `'number_of_reviews'`,\n",
    "* `'reviews_per_month'`,\n",
    "* `'calculated_host_listings_count'`,\n",
    "* `'availability_365'`\n",
    "\n",
    "Select only them.\n",
    "\n"
   ]
  },
  {
   "cell_type": "code",
   "execution_count": null,
   "id": "3eb2c1f7-b3d4-4c92-830e-6a1f67e2a258",
   "metadata": {},
   "outputs": [],
   "source": []
  },
  {
   "cell_type": "markdown",
   "id": "44891dba-f69f-4fc5-b55e-99bf7e94f268",
   "metadata": {},
   "source": [
    "\n",
    "### Question 1\n",
    "\n",
    "What is the most frequent observation (mode) for the column `'neighbourhood_group'`?\n",
    "\n",
    "\n"
   ]
  },
  {
   "cell_type": "code",
   "execution_count": null,
   "id": "1ac89a29-463d-4df2-865e-355dd57cede8",
   "metadata": {},
   "outputs": [],
   "source": []
  },
  {
   "cell_type": "markdown",
   "id": "32139ecb-2789-4268-b888-59da6e993cfa",
   "metadata": {},
   "source": [
    "### Split the data\n",
    "\n",
    "* Split your data in train/val/test sets, with 60%/20%/20% distribution.\n",
    "* Use Scikit-Learn for that (the `train_test_split` function) and set the seed to 42.\n",
    "* Make sure that the target value ('price') is not in your dataframe.\n",
    "\n",
    "\n",
    "### Question 2\n",
    "\n",
    "* Create the [correlation matrix](https://www.google.com/search?q=correlation+matrix) for the numerical features of your train dataset.\n",
    "   * In a correlation matrix, you compute the correlation coefficient between every pair of features in the dataset.\n",
    "* What are the two features that have the biggest correlation in this dataset?\n",
    "\n",
    "Example of a correlation matrix for the car price dataset:\n",
    "\n",
    "<img src=\"images/correlation-matrix.png\" />\n",
    "\n",
    "\n"
   ]
  },
  {
   "cell_type": "code",
   "execution_count": null,
   "id": "d4a6b2a0-065c-47d4-a767-cada54b2c455",
   "metadata": {},
   "outputs": [],
   "source": []
  },
  {
   "cell_type": "markdown",
   "id": "020138bf-e01b-45e2-8c8e-aa61401ee71d",
   "metadata": {},
   "source": [
    "### Question 3\n",
    "\n",
    "* Calculate the mutual information score for the two categorical variables that we have. Use the training set only.\n",
    "* Which of these two variables has bigger score?\n",
    "* Round it to 2 decimal digits using `round(score, 2)`\n",
    "\n",
    "\n"
   ]
  },
  {
   "cell_type": "code",
   "execution_count": null,
   "id": "60c35367-3061-424b-aa4e-a39042134dbb",
   "metadata": {},
   "outputs": [],
   "source": []
  },
  {
   "cell_type": "markdown",
   "id": "a39c0910-99df-40af-b3e1-a30086a5d2a7",
   "metadata": {},
   "source": [
    "### Question 4\n",
    "\n",
    "* Now let's train a logistic regression\n",
    "* For that, we need to turn our price prediction problem into a binary classification task.\n",
    "* Let's create a variable `above_average` which is `1` if the price is above (or equal to) `152`.\n",
    "* Remember that we have two categorical variables in the data. Include them using one-hot encoding.\n",
    "* Fit the model on the training dataset.\n",
    "   * To make sure the results are reproducible across different versions of Scikit-Learn, fit the model with these parameters:\n",
    "   * `model = LogisticRegression(solver='lbfgs', C=1.0, random_state=42)`\n",
    "* Calculate the accuracy on the validation dataset and rount it to 2 decimal digits.\n",
    "\n",
    "\n"
   ]
  },
  {
   "cell_type": "code",
   "execution_count": null,
   "id": "11483676-2301-46d9-a8df-89b398b1b360",
   "metadata": {},
   "outputs": [],
   "source": []
  },
  {
   "cell_type": "markdown",
   "id": "74ae536a-216b-4187-996d-16dce0dac82f",
   "metadata": {},
   "source": [
    "### Question 5\n",
    "\n",
    "* We have 10 features: 8 numerical features and 2 categorical.\n",
    "* Let's find the least useful one using the *feature elimination* technique.\n",
    "* Train a model with all these features (using the same parameters as in Q4).\n",
    "* Now exclude each feature from this set and train a model without it. Record the accuracy for each model.\n",
    "* For each feature, calculate the difference between the original accuracy and the accuracy without the feature. \n",
    "* Which of following feature has the smallest difference? \n",
    "   * `neighbourhood_group`\n",
    "   * `room_type` \n",
    "   * `number_of_reviews`\n",
    "   * `reviews_per_month`\n",
    "\n",
    "> **note**: the difference doesn't have to be positive\n",
    "\n",
    "\n"
   ]
  },
  {
   "cell_type": "code",
   "execution_count": null,
   "id": "42716218-8fbc-4a71-8219-4a773f3f216b",
   "metadata": {},
   "outputs": [],
   "source": []
  },
  {
   "cell_type": "code",
   "execution_count": null,
   "id": "fbddc921-1112-44c6-825e-818d417f4403",
   "metadata": {},
   "outputs": [],
   "source": []
  },
  {
   "cell_type": "code",
   "execution_count": null,
   "id": "237c6dee-775f-4d5b-8cea-3a8bcc69cc76",
   "metadata": {},
   "outputs": [],
   "source": []
  },
  {
   "cell_type": "code",
   "execution_count": null,
   "id": "67e0e38d-2c0d-4bf6-a9cb-aebe5fafcd5d",
   "metadata": {},
   "outputs": [],
   "source": []
  }
 ],
 "metadata": {
  "kernelspec": {
   "display_name": "Python 3 (ipykernel)",
   "language": "python",
   "name": "python3"
  },
  "language_info": {
   "codemirror_mode": {
    "name": "ipython",
    "version": 3
   },
   "file_extension": ".py",
   "mimetype": "text/x-python",
   "name": "python",
   "nbconvert_exporter": "python",
   "pygments_lexer": "ipython3",
   "version": "3.8.11"
  }
 },
 "nbformat": 4,
 "nbformat_minor": 5
}
