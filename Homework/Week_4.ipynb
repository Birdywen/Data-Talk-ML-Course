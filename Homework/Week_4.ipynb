{
 "cells": [
  {
   "cell_type": "markdown",
   "metadata": {},
   "source": [
    "## Week 4 Homework"
   ]
  },
  {
   "cell_type": "code",
   "execution_count": 1,
   "metadata": {},
   "outputs": [],
   "source": [
    "import pandas as pd\n",
    "import numpy as np\n",
    "from sklearn.model_selection import train_test_split, KFold, cross_val_score\n",
    "from sklearn.metrics import auc, roc_auc_score, precision_recall_curve, precision_score, recall_score\n",
    "from sklearn.feature_extraction import DictVectorizer\n",
    "from sklearn.linear_model import LogisticRegression\n",
    "import seaborn as sns\n"
   ]
  },
  {
   "cell_type": "code",
   "execution_count": 3,
   "metadata": {},
   "outputs": [],
   "source": [
    "# Data import and prep\n",
    "df = pd.read_csv('AER_credit_card_data.csv')\n",
    "df['target'] = np.where(df['card']=='yes', 1,0)\n",
    "\n",
    "X = df.drop(columns=['target','card'])\n",
    "y = df['target']\n",
    "# Split into test and train at 60/40\n",
    "X_train, X_test, y_train, y_test = train_test_split(X, y, test_size=0.6, random_state=1)\n",
    "\n",
    "# now split into train and validation to give 60/20/20 split\n",
    "X_train, X_val, y_train, y_val = train_test_split(X_train, y_train, test_size=0.5, random_state=1)"
   ]
  },
  {
   "cell_type": "code",
   "execution_count": 37,
   "metadata": {},
   "outputs": [
    {
     "name": "stdout",
     "output_type": "stream",
     "text": [
      "AUC for reports column: 0.660960591133005\n",
      "AUC for dependents column: 0.542816091954023\n",
      "AUC for active column: 0.6282019704433498\n",
      "AUC for share column: 0.9814039408866996\n"
     ]
    }
   ],
   "source": [
    "# Question 1\n",
    "numeric = ['reports', 'dependents', 'active','share'] \n",
    "\n",
    "for variable in numeric:\n",
    "    model = LogisticRegression(solver=\"liblinear\", random_state=1)\n",
    "    train = X_train[variable].to_numpy().reshape(-1,1)\n",
    "    model.fit(train, y_train)\n",
    "    score = roc_auc_score(y_train, model.predict_proba(train)[:, 1])\n",
    "    print(f\"AUC for {variable} column: {score}\")"
   ]
  },
  {
   "cell_type": "code",
   "execution_count": 7,
   "metadata": {},
   "outputs": [],
   "source": [
    "# Question 2\n",
    "\n",
    "def df_prep_and_split(df):\n",
    "    df = df[[\"target\",\"reports\", \"age\", \"income\", \"share\", \"expenditure\", \"dependents\", \"months\", \"majorcards\", \"active\", \"owner\", \"selfemp\"]]\n",
    "\n",
    "    X = df.drop(columns=['target'])\n",
    "    y = df['target']\n",
    "    # Split into test and train at 60/40\n",
    "    X_train, X_test, y_train, y_test = train_test_split(X, y, test_size=0.6, random_state=1)\n",
    "\n",
    "    # now split into train and validation to give 60/20/20 split\n",
    "    X_train, X_val, y_train, y_val = train_test_split(X_train, y_train, test_size=0.5, random_state=1)\n",
    "\n",
    "    categoric = ['owner','selfemp']\n",
    "    numeric = ['reports',\t'age',\t'income',\t'share',\t'expenditure',\t'dependents',\t'months',\t'majorcards',\t'active']\n",
    "    # One hot encode categoricals using a dict vectorizer\n",
    "    train_dict = X_train[categoric + numeric].to_dict(orient='records')\n",
    "    dv = DictVectorizer(sparse=False)\n",
    "    dv.fit(train_dict)\n",
    "    X_train = dv.transform(train_dict)\n",
    "\n",
    "    # One hot encode validation data for model metrics\n",
    "    val_dict = X_val[categoric + numeric].to_dict(orient='records')\n",
    "    X_val = dv.transform(val_dict)\n",
    "\n",
    "    return X_train, X_test, y_train, X_val, y_test, y_val\n",
    "\n",
    "X_train, X_test, y_train, X_val, y_test, y_val = df_prep_and_split(df)\n"
   ]
  },
  {
   "cell_type": "code",
   "execution_count": 8,
   "metadata": {},
   "outputs": [
    {
     "name": "stdout",
     "output_type": "stream",
     "text": [
      "AUC is: 0.99984\n"
     ]
    }
   ],
   "source": [
    "model = LogisticRegression(solver='liblinear', C=1.0, max_iter=1000)\n",
    "model.fit(X_train, y_train)\n",
    "score = roc_auc_score(y_val, model.predict_proba(X_val)[:, 1])\n",
    "print(f\"AUC is: {round(score,5)}\")"
   ]
  },
  {
   "cell_type": "code",
   "execution_count": 87,
   "metadata": {},
   "outputs": [
    {
     "data": {
      "text/plain": [
       "<AxesSubplot:xlabel='Threshold', ylabel='Recall'>"
      ]
     },
     "execution_count": 87,
     "metadata": {},
     "output_type": "execute_result"
    },
    {
     "data": {
      "image/png": "[encoded data removed]",
      "text/plain": [
       "<Figure size 432x288 with 1 Axes>"
      ]
     },
     "metadata": {
      "needs_background": "light"
     },
     "output_type": "display_data"
    }
   ],
   "source": [
    "# Question 3\n",
    "recall_scores = []\n",
    "precision_scores = []\n",
    "thresholds = np.linspace(0, 1, 101)\n",
    "y_pred = model.predict_proba(X_val)[:, 1]\n",
    "\n",
    "for threshold in thresholds:\n",
    "    recall = recall_score(y_val, y_pred >= threshold)\n",
    "    precision_scores.append(recall)\n",
    "    precision = precision_score(y_val, y_pred >= threshold)\n",
    "    recall_scores.append(precision)\n",
    "\n",
    "plt_df = pd.DataFrame(list(zip(thresholds, recall_scores, precision_scores)),\n",
    "               columns =['Threshold', 'Recall', 'Precision'])\n",
    "sns.lineplot(x='Threshold', y='Recall', data=plt_df)\n",
    "sns.lineplot(x='Threshold', y='Precision', data=plt_df)"
   ]
  },
  {
   "cell_type": "markdown",
   "metadata": {},
   "source": [
    "Curves intersect at 0.3 Threshold"
   ]
  },
  {
   "cell_type": "code",
   "execution_count": 74,
   "metadata": {},
   "outputs": [],
   "source": [
    "## Question 4 \n",
    "# Use the dataframe created to make above plot to create new column for F1 scores\n",
    "plt_df['F1_score'] = 2 * plt_df['Precision'] * plt_df['Recall'] / (plt_df['Precision'] + plt_df['Recall'])"
   ]
  },
  {
   "cell_type": "code",
   "execution_count": 85,
   "metadata": {},
   "outputs": [
    {
     "data": {
      "text/html": [
       "<div>\n",
       "<style scoped>\n",
       "    .dataframe tbody tr th:only-of-type {\n",
       "        vertical-align: middle;\n",
       "    }\n",
       "\n",
       "    .dataframe tbody tr th {\n",
       "        vertical-align: top;\n",
       "    }\n",
       "\n",
       "    .dataframe thead th {\n",
       "        text-align: right;\n",
       "    }\n",
       "</style>\n",
       "<table border=\"1\" class=\"dataframe\">\n",
       "  <thead>\n",
       "    <tr style=\"text-align: right;\">\n",
       "      <th></th>\n",
       "      <th>Threshold</th>\n",
       "      <th>Recall</th>\n",
       "      <th>Precision</th>\n",
       "      <th>F1_score</th>\n",
       "    </tr>\n",
       "  </thead>\n",
       "  <tbody>\n",
       "    <tr>\n",
       "      <th>45</th>\n",
       "      <td>0.45</td>\n",
       "      <td>1.0</td>\n",
       "      <td>0.99505</td>\n",
       "      <td>0.997519</td>\n",
       "    </tr>\n",
       "    <tr>\n",
       "      <th>46</th>\n",
       "      <td>0.46</td>\n",
       "      <td>1.0</td>\n",
       "      <td>0.99505</td>\n",
       "      <td>0.997519</td>\n",
       "    </tr>\n",
       "    <tr>\n",
       "      <th>47</th>\n",
       "      <td>0.47</td>\n",
       "      <td>1.0</td>\n",
       "      <td>0.99505</td>\n",
       "      <td>0.997519</td>\n",
       "    </tr>\n",
       "    <tr>\n",
       "      <th>48</th>\n",
       "      <td>0.48</td>\n",
       "      <td>1.0</td>\n",
       "      <td>0.99505</td>\n",
       "      <td>0.997519</td>\n",
       "    </tr>\n",
       "    <tr>\n",
       "      <th>49</th>\n",
       "      <td>0.49</td>\n",
       "      <td>1.0</td>\n",
       "      <td>0.99505</td>\n",
       "      <td>0.997519</td>\n",
       "    </tr>\n",
       "    <tr>\n",
       "      <th>50</th>\n",
       "      <td>0.50</td>\n",
       "      <td>1.0</td>\n",
       "      <td>0.99505</td>\n",
       "      <td>0.997519</td>\n",
       "    </tr>\n",
       "    <tr>\n",
       "      <th>51</th>\n",
       "      <td>0.51</td>\n",
       "      <td>1.0</td>\n",
       "      <td>0.99505</td>\n",
       "      <td>0.997519</td>\n",
       "    </tr>\n",
       "    <tr>\n",
       "      <th>52</th>\n",
       "      <td>0.52</td>\n",
       "      <td>1.0</td>\n",
       "      <td>0.99505</td>\n",
       "      <td>0.997519</td>\n",
       "    </tr>\n",
       "    <tr>\n",
       "      <th>53</th>\n",
       "      <td>0.53</td>\n",
       "      <td>1.0</td>\n",
       "      <td>0.99505</td>\n",
       "      <td>0.997519</td>\n",
       "    </tr>\n",
       "    <tr>\n",
       "      <th>54</th>\n",
       "      <td>0.54</td>\n",
       "      <td>1.0</td>\n",
       "      <td>0.99505</td>\n",
       "      <td>0.997519</td>\n",
       "    </tr>\n",
       "    <tr>\n",
       "      <th>55</th>\n",
       "      <td>0.55</td>\n",
       "      <td>1.0</td>\n",
       "      <td>0.99505</td>\n",
       "      <td>0.997519</td>\n",
       "    </tr>\n",
       "    <tr>\n",
       "      <th>56</th>\n",
       "      <td>0.56</td>\n",
       "      <td>1.0</td>\n",
       "      <td>0.99505</td>\n",
       "      <td>0.997519</td>\n",
       "    </tr>\n",
       "    <tr>\n",
       "      <th>57</th>\n",
       "      <td>0.57</td>\n",
       "      <td>1.0</td>\n",
       "      <td>0.99505</td>\n",
       "      <td>0.997519</td>\n",
       "    </tr>\n",
       "    <tr>\n",
       "      <th>58</th>\n",
       "      <td>0.58</td>\n",
       "      <td>1.0</td>\n",
       "      <td>0.99505</td>\n",
       "      <td>0.997519</td>\n",
       "    </tr>\n",
       "    <tr>\n",
       "      <th>59</th>\n",
       "      <td>0.59</td>\n",
       "      <td>1.0</td>\n",
       "      <td>0.99505</td>\n",
       "      <td>0.997519</td>\n",
       "    </tr>\n",
       "    <tr>\n",
       "      <th>60</th>\n",
       "      <td>0.60</td>\n",
       "      <td>1.0</td>\n",
       "      <td>0.99505</td>\n",
       "      <td>0.997519</td>\n",
       "    </tr>\n",
       "    <tr>\n",
       "      <th>61</th>\n",
       "      <td>0.61</td>\n",
       "      <td>1.0</td>\n",
       "      <td>0.99505</td>\n",
       "      <td>0.997519</td>\n",
       "    </tr>\n",
       "    <tr>\n",
       "      <th>62</th>\n",
       "      <td>0.62</td>\n",
       "      <td>1.0</td>\n",
       "      <td>0.99505</td>\n",
       "      <td>0.997519</td>\n",
       "    </tr>\n",
       "    <tr>\n",
       "      <th>63</th>\n",
       "      <td>0.63</td>\n",
       "      <td>1.0</td>\n",
       "      <td>0.99505</td>\n",
       "      <td>0.997519</td>\n",
       "    </tr>\n",
       "    <tr>\n",
       "      <th>64</th>\n",
       "      <td>0.64</td>\n",
       "      <td>1.0</td>\n",
       "      <td>0.99505</td>\n",
       "      <td>0.997519</td>\n",
       "    </tr>\n",
       "    <tr>\n",
       "      <th>65</th>\n",
       "      <td>0.65</td>\n",
       "      <td>1.0</td>\n",
       "      <td>0.99505</td>\n",
       "      <td>0.997519</td>\n",
       "    </tr>\n",
       "    <tr>\n",
       "      <th>66</th>\n",
       "      <td>0.66</td>\n",
       "      <td>1.0</td>\n",
       "      <td>0.99505</td>\n",
       "      <td>0.997519</td>\n",
       "    </tr>\n",
       "    <tr>\n",
       "      <th>67</th>\n",
       "      <td>0.67</td>\n",
       "      <td>1.0</td>\n",
       "      <td>0.99505</td>\n",
       "      <td>0.997519</td>\n",
       "    </tr>\n",
       "  </tbody>\n",
       "</table>\n",
       "</div>"
      ],
      "text/plain": [
       "    Threshold  Recall  Precision  F1_score\n",
       "45       0.45     1.0    0.99505  0.997519\n",
       "46       0.46     1.0    0.99505  0.997519\n",
       "47       0.47     1.0    0.99505  0.997519\n",
       "48       0.48     1.0    0.99505  0.997519\n",
       "49       0.49     1.0    0.99505  0.997519\n",
       "50       0.50     1.0    0.99505  0.997519\n",
       "51       0.51     1.0    0.99505  0.997519\n",
       "52       0.52     1.0    0.99505  0.997519\n",
       "53       0.53     1.0    0.99505  0.997519\n",
       "54       0.54     1.0    0.99505  0.997519\n",
       "55       0.55     1.0    0.99505  0.997519\n",
       "56       0.56     1.0    0.99505  0.997519\n",
       "57       0.57     1.0    0.99505  0.997519\n",
       "58       0.58     1.0    0.99505  0.997519\n",
       "59       0.59     1.0    0.99505  0.997519\n",
       "60       0.60     1.0    0.99505  0.997519\n",
       "61       0.61     1.0    0.99505  0.997519\n",
       "62       0.62     1.0    0.99505  0.997519\n",
       "63       0.63     1.0    0.99505  0.997519\n",
       "64       0.64     1.0    0.99505  0.997519\n",
       "65       0.65     1.0    0.99505  0.997519\n",
       "66       0.66     1.0    0.99505  0.997519\n",
       "67       0.67     1.0    0.99505  0.997519"
      ]
     },
     "execution_count": 85,
     "metadata": {},
     "output_type": "execute_result"
    }
   ],
   "source": [
    "max_F1 = plt_df['F1_score'].max()\n",
    "plt_df[plt_df['F1_score']==max_F1]\n",
    "# based on below output the max F1 score appears arouund 0.4 Threshold"
   ]
  },
  {
   "cell_type": "code",
   "execution_count": 16,
   "metadata": {},
   "outputs": [],
   "source": [
    "# ## Question 5\n",
    "\n",
    "# # Create function to run k fold validation\n",
    "# # Create df_train_full\n",
    "# def k_folds_validation(df, kfoldsplit):\n",
    "\n",
    "#     kfold = KFold(n_splits=kfoldsplit, shuffle=True, random_state=1)\n",
    "\n",
    "\n",
    "#     # Use functions from Learning material\n",
    "#     def train(df, y):\n",
    "#         cat = df[categoric + numeric].to_dict(orient='records')\n",
    "        \n",
    "#         dv = DictVectorizer(sparse=False)\n",
    "#         dv.fit(cat)\n",
    "\n",
    "#         X = dv.transform(cat)\n",
    "\n",
    "#         model = LogisticRegression(solver='liblinear', C=1.0, max_iter=1000)\n",
    "#         model.fit(X, y)\n",
    "\n",
    "#         return dv, model\n",
    "\n",
    "\n",
    "#     def predict(df, dv, model):\n",
    "#         cat = df[categoric + numeric].to_dict(orient='records')\n",
    "        \n",
    "#         X = dv.transform(cat)\n",
    "\n",
    "#         y_pred = model.predict_proba(X)[:, 1]\n",
    "\n",
    "#         return y_pred\n",
    "\n",
    "\n",
    "\n",
    "#     df_train_full, df_test = train_test_split(df, test_size=0.2, random_state=1)\n",
    "#     df_train, df_val = train_test_split(df_train_full, test_size=0.33, random_state=11)\n",
    "\n",
    "#     y_train = df_train['target'].values\n",
    "#     y_val = df_val['target'].values\n",
    "\n",
    "#     del df_train['target']\n",
    "#     del df_val['target']\n",
    "\n",
    "\n",
    "#     # get Kfolds AUCs - using code from the learning material\n",
    "#     aucs = []\n",
    "\n",
    "#     for train_idx, val_idx in kfold.split(df_train_full):\n",
    "#         df_train = df_train_full.iloc[train_idx]\n",
    "#         y_train = df_train['target'].values\n",
    "\n",
    "#         df_val = df_train_full.iloc[val_idx]\n",
    "#         y_val = df_val['target'].values\n",
    "\n",
    "#         dv, model = train(df_train, y_train)\n",
    "#         y_pred = predict(df_val, dv, model)\n",
    "\n",
    "#         rocauc = roc_auc_score(y_val, y_pred)\n",
    "#         aucs.append(rocauc)\n",
    "    \n",
    "#     return aucs\n",
    "\n",
    "# # Call function\n",
    "# aucs = k_folds_validation(df, 5)\n",
    "#     # Finally get the standard deviation\n",
    "#     # Standard deviation of list\n",
    "# # Using sum() + list comprehension\n",
    "# mean = sum(aucs) / len(aucs)\n",
    "# std = (sum([((x - mean) ** 2) for x in aucs]) / len(aucs))**0.5\n",
    "# std"
   ]
  },
  {
   "cell_type": "code",
   "execution_count": 17,
   "metadata": {},
   "outputs": [
    {
     "name": "stdout",
     "output_type": "stream",
     "text": [
      "0.9798 AUC with a standard deviation of 0.0194\n"
     ]
    }
   ],
   "source": [
    "# Question 5 - Using custom code with sklearn using cross_val_score\n",
    "CV = KFold(n_splits=5, shuffle=True, random_state=1)\n",
    "model = LogisticRegression(solver='liblinear', C=1.0, max_iter=1000)\n",
    "\n",
    "X_train, X_test, y_train, X_val, y_test, y_val = df_prep_and_split(df)\n",
    "\n",
    "# Run cross validation score with auc as the metric\n",
    "scores = cross_val_score(model, X_train, y_train, cv=CV, scoring='roc_auc')\n",
    "\n",
    "print(\"%0.4f AUC with a standard deviation of %0.4f\" % (scores.mean(), scores.std()))\n"
   ]
  },
  {
   "cell_type": "code",
   "execution_count": 23,
   "metadata": {},
   "outputs": [
    {
     "data": {
      "text/plain": [
       "{0.01: [0.9767644956669347, 0.02362699622284424],\n",
       " 0.1: [0.9814630491459759, 0.018235770785871228],\n",
       " 1: [0.9798182305499379, 0.019422980153699733],\n",
       " 10: [0.9787496243593804, 0.01788478114639378]}"
      ]
     },
     "execution_count": 23,
     "metadata": {},
     "output_type": "execute_result"
    }
   ],
   "source": [
    "## Question 6\n",
    "kfold = KFold(n_splits=5, shuffle=True, random_state=1)\n",
    "C = [0.01, 0.1, 1, 10]\n",
    "output = {}\n",
    "for value in C:\n",
    "    model = LogisticRegression(solver='liblinear', C=value, max_iter=1000)\n",
    "    scores = cross_val_score(model, X_train, y_train, cv=CV, scoring='roc_auc')\n",
    "    output[value] = [scores.mean(), scores.std()]\n",
    "\n",
    "# Get output of best value\n",
    "output"
   ]
  }
 ],
 "metadata": {
  "kernelspec": {
   "display_name": "Python 3.9.12 ('base')",
   "language": "python",
   "name": "python3"
  },
  "language_info": {
   "codemirror_mode": {
    "name": "ipython",
    "version": 3
   },
   "file_extension": ".py",
   "mimetype": "text/x-python",
   "name": "python",
   "nbconvert_exporter": "python",
   "pygments_lexer": "ipython3",
   "version": "3.9.12"
  },
  "orig_nbformat": 4,
  "vscode": {
   "interpreter": {
    "hash": "dc5a08217b59f561bae803d66f14d54fb71480af2b8ed710ff58115b53376104"
   }
  }
 },
 "nbformat": 4,
 "nbformat_minor": 2
}
